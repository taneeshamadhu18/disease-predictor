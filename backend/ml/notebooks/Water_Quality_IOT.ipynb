{
  "nbformat": 4,
  "nbformat_minor": 0,
  "metadata": {
    "colab": {
      "provenance": []
    },
    "kernelspec": {
      "name": "python3",
      "display_name": "Python 3"
    },
    "language_info": {
      "name": "python"
    }
  },
  "cells": [
    {
      "cell_type": "code",
      "execution_count": 2,
      "metadata": {
        "colab": {
          "base_uri": "https://localhost:8080/"
        },
        "id": "1HKQ1UK2vtNT",
        "outputId": "0c9236be-e05b-4923-9773-b8a6f2a5704a"
      },
      "outputs": [
        {
          "output_type": "stream",
          "name": "stdout",
          "text": [
            "Classification Report:\n",
            "               precision    recall  f1-score   support\n",
            "\n",
            "        High       1.00      0.99      1.00       152\n",
            "         Low       0.85      0.96      0.90        49\n",
            "      Medium       0.98      0.96      0.97       199\n",
            "\n",
            "    accuracy                           0.97       400\n",
            "   macro avg       0.95      0.97      0.96       400\n",
            "weighted avg       0.97      0.97      0.97       400\n",
            "\n",
            "Confusion Matrix:\n",
            " [[151   0   1]\n",
            " [  0  47   2]\n",
            " [  0   8 191]]\n",
            "Pipeline saved as 'final_pipeline_balanced.joblib'\n"
          ]
        }
      ],
      "source": [
        "import pandas as pd\n",
        "from sklearn.model_selection import train_test_split, cross_val_score\n",
        "from sklearn.preprocessing import StandardScaler, OneHotEncoder\n",
        "from sklearn.compose import ColumnTransformer\n",
        "from sklearn.pipeline import Pipeline\n",
        "from sklearn.metrics import classification_report, confusion_matrix\n",
        "from sklearn.ensemble import RandomForestClassifier\n",
        "from imblearn.over_sampling import SMOTE\n",
        "from imblearn.pipeline import Pipeline as ImbPipeline\n",
        "from collections import Counter\n",
        "import joblib\n",
        "\n",
        "\n",
        "data = pd.read_csv(\"iot_sensor_dataset.csv\")\n",
        "\n",
        "\n",
        "X = data.drop(columns=[\"OutbreakRisk\"])\n",
        "y = data[\"OutbreakRisk\"]\n",
        "\n",
        "\n",
        "X_train, X_test, y_train, y_test = train_test_split(\n",
        "    X, y, test_size=0.2, random_state=42, stratify=y\n",
        ")\n",
        "\n",
        "\n",
        "numeric_features = [\"Water_pH\", \"Turbidity_NTU\", \"Chlorine_mg_L\", \"EColi_MPN\",\n",
        "                    \"Rainfall_mm\", \"AvgTemperature_C\"]\n",
        "categorical_features = [\"BacterialPresence\"]\n",
        "\n",
        "numeric_transformer = StandardScaler()\n",
        "categorical_transformer = OneHotEncoder(handle_unknown='ignore')\n",
        "\n",
        "preprocessor = ColumnTransformer(\n",
        "    transformers=[\n",
        "        (\"num\", numeric_transformer, numeric_features),\n",
        "        (\"cat\", categorical_transformer, categorical_features)\n",
        "    ]\n",
        ")\n",
        "\n",
        "\n",
        "#  Handle class imbalance dynamically with SMOTE\n",
        "\n",
        "max_count = max(Counter(y_train).values())\n",
        "smote_strategy = {cls: max_count for cls in Counter(y_train).keys()}\n",
        "smote = SMOTE(sampling_strategy=smote_strategy, random_state=42)\n",
        "\n",
        "#  Classifier\n",
        "classifier = RandomForestClassifier(\n",
        "    n_estimators=200,\n",
        "    max_depth=6,\n",
        "    random_state=42\n",
        ")\n",
        "\n",
        "#  Full pipeline\n",
        "pipeline = ImbPipeline(steps=[\n",
        "    (\"preprocessor\", preprocessor),\n",
        "    (\"smote\", smote),\n",
        "    (\"classifier\", classifier)\n",
        "])\n",
        "\n",
        "#  Train pipeline\n",
        "pipeline.fit(X_train, y_train)\n",
        "\n",
        "#  Evaluate\n",
        "y_pred = pipeline.predict(X_test)\n",
        "\n",
        "print(\"Classification Report:\\n\", classification_report(y_test, y_pred))\n",
        "print(\"Confusion Matrix:\\n\", confusion_matrix(y_test, y_pred))\n",
        "\n",
        "#  Save the pipeline\n",
        "joblib.dump(pipeline, \"final_pipeline_balanced.joblib\")\n",
        "print(\"Pipeline saved as 'final_pipeline_balanced.joblib'\")\n"
      ]
    },
    {
      "cell_type": "code",
      "source": [
        "import pandas as pd\n",
        "import joblib\n",
        "\n",
        "# Load pipeline\n",
        "pipeline = joblib.load('final_pipeline_balanced.joblib')\n",
        "\n",
        "def predict_risk(sample_data: dict):\n",
        "\n",
        "    df = pd.DataFrame([sample_data])\n",
        "\n",
        "    pred_class = pipeline.predict(df)[0]\n",
        "    pred_proba = pipeline.predict_proba(df)[0]\n",
        "\n",
        "    # Get the probability corresponding to predicted class\n",
        "    class_labels = pipeline.classes_\n",
        "    pred_idx = list(class_labels).index(pred_class)\n",
        "    pred_confidence = pred_proba[pred_idx] * 100\n",
        "\n",
        "    return pred_class, round(pred_confidence, 2)\n",
        "\n",
        "\n",
        "sample = {\n",
        "    'Water_pH': 7.0,\n",
        "    'Turbidity_NTU': 0.4,\n",
        "    'Chlorine_mg_L': 0.35,\n",
        "    'EColi_MPN': 0,\n",
        "    'Rainfall_mm': 20,\n",
        "    'AvgTemperature_C': 28,\n",
        "    'BacterialPresence': 'No'\n",
        "}\n",
        "\n",
        "risk, confidence = predict_risk(sample)\n",
        "print(f\"Predicted Risk: {risk} ({confidence}%)\")\n"
      ],
      "metadata": {
        "colab": {
          "base_uri": "https://localhost:8080/"
        },
        "id": "nWNgSkdGzKZa",
        "outputId": "641935c8-d3a2-40a2-f295-ace83118b7b6"
      },
      "execution_count": 7,
      "outputs": [
        {
          "output_type": "stream",
          "name": "stdout",
          "text": [
            "Predicted Risk: Low (90.52%)\n"
          ]
        }
      ]
    },
    {
      "cell_type": "code",
      "source": [
        "import pandas as pd\n",
        "import joblib\n",
        "\n",
        "pipeline = joblib.load('final_pipeline_balanced.joblib')\n",
        "\n",
        "sample = {\n",
        "    'Water_pH': 7.2,\n",
        "    'Turbidity_NTU': 1.0,\n",
        "    'Chlorine_mg_L': 0.25,\n",
        "    'EColi_MPN': 5,\n",
        "    'Rainfall_mm': 25,\n",
        "    'AvgTemperature_C': 27,\n",
        "    'BacterialPresence': 'No'\n",
        "}\n",
        "\n",
        "df = pd.DataFrame([sample])\n",
        "\n",
        "pred_class = pipeline.predict(df)[0]\n",
        "pred_proba = pipeline.predict_proba(df)[0]\n",
        "\n",
        "class_labels = pipeline.classes_\n",
        "pred_idx = list(class_labels).index(pred_class)\n",
        "pred_confidence = pred_proba[pred_idx] * 100\n",
        "\n",
        "print(f\"Predicted Risk: {pred_class} ({pred_confidence:.2f}%)\")\n"
      ],
      "metadata": {
        "colab": {
          "base_uri": "https://localhost:8080/"
        },
        "id": "85qBvG90_COi",
        "outputId": "6315be19-378f-4e91-e47e-3bb992ce75cd"
      },
      "execution_count": 8,
      "outputs": [
        {
          "output_type": "stream",
          "name": "stdout",
          "text": [
            "Predicted Risk: Medium (85.75%)\n"
          ]
        }
      ]
    },
    {
      "cell_type": "code",
      "source": [
        "import pandas as pd\n",
        "import joblib\n",
        "\n",
        "pipeline = joblib.load('final_pipeline_balanced.joblib')\n",
        "\n",
        "sample = {\n",
        "    'Water_pH': 6.0,\n",
        "    'Turbidity_NTU': 4.5,\n",
        "    'Chlorine_mg_L': 0.05,\n",
        "    'EColi_MPN': 150,\n",
        "    'Rainfall_mm': 40,\n",
        "    'AvgTemperature_C': 30,\n",
        "    'BacterialPresence': 'Yes'\n",
        "}\n",
        "\n",
        "df = pd.DataFrame([sample])\n",
        "\n",
        "pred_class = pipeline.predict(df)[0]\n",
        "pred_proba = pipeline.predict_proba(df)[0]\n",
        "\n",
        "class_labels = pipeline.classes_\n",
        "pred_idx = list(class_labels).index(pred_class)\n",
        "pred_confidence = pred_proba[pred_idx] * 100\n",
        "\n",
        "print(f\"Predicted Risk: {pred_class} ({pred_confidence:.2f}%)\")\n"
      ],
      "metadata": {
        "colab": {
          "base_uri": "https://localhost:8080/"
        },
        "id": "rUGdPDCH_NRj",
        "outputId": "452f4ac4-1eeb-47d5-d596-07f8e05b1566"
      },
      "execution_count": 9,
      "outputs": [
        {
          "output_type": "stream",
          "name": "stdout",
          "text": [
            "Predicted Risk: High (99.45%)\n"
          ]
        }
      ]
    },
    {
      "cell_type": "code",
      "source": [],
      "metadata": {
        "id": "eF04mjHv_uGU"
      },
      "execution_count": null,
      "outputs": []
    }
  ]
}